{
 "cells": [
  {
   "cell_type": "code",
   "execution_count": 1,
   "id": "20e37aee-7990-4b0e-9aef-66a55311af73",
   "metadata": {},
   "outputs": [
    {
     "name": "stdout",
     "output_type": "stream",
     "text": [
      "Package             Version\n",
      "------------------- --------------------\n",
      "asttokens           2.4.1\n",
      "certifi             2024.2.2\n",
      "charset-normalizer  3.3.2\n",
      "colorama            0.4.6\n",
      "comm                0.2.2\n",
      "contourpy           1.2.1\n",
      "cycler              0.12.1\n",
      "debugpy             1.8.1\n",
      "decorator           5.1.1\n",
      "exceptiongroup      1.2.1\n",
      "executing           2.0.1\n",
      "filelock            3.14.0\n",
      "fonttools           4.51.0\n",
      "fsspec              2024.5.0\n",
      "gitdb               4.0.11\n",
      "GitPython           3.1.43\n",
      "idna                3.7\n",
      "importlib-metadata  7.1.0\n",
      "importlib-resources 6.4.0\n",
      "intel-openmp        2021.4.0\n",
      "ipykernel           6.29.4\n",
      "ipython             8.18.1\n",
      "jedi                0.19.1\n",
      "jinja2              3.1.4\n",
      "jupyter-client      8.6.1\n",
      "jupyter-core        5.7.2\n",
      "kiwisolver          1.4.5\n",
      "lxml                4.6.3\n",
      "MarkupSafe          2.1.5\n",
      "matplotlib          3.8.4\n",
      "matplotlib-inline   0.1.7\n",
      "mkl                 2021.4.0\n",
      "mpmath              1.3.0\n",
      "nest-asyncio        1.6.0\n",
      "networkx            3.2.1\n",
      "numpy               1.26.3\n",
      "opencv-python       4.9.0.80\n",
      "packaging           24.0\n",
      "pandas              2.2.2\n",
      "parso               0.8.4\n",
      "pillow              10.3.0\n",
      "pip                 20.2.3\n",
      "platformdirs        4.2.2\n",
      "prompt-toolkit      3.0.43\n",
      "psutil              5.9.8\n",
      "pure-eval           0.2.2\n",
      "py-cpuinfo          9.0.0\n",
      "pygments            2.18.0\n",
      "pyparsing           3.1.2\n",
      "PyQt5               5.15.4\n",
      "PyQt5-Qt5           5.15.2\n",
      "PyQt5-sip           12.13.0\n",
      "python-dateutil     2.9.0.post0\n",
      "pytz                2024.1\n",
      "pywin32             306\n",
      "PyYAML              6.0.1\n",
      "pyzmq               26.0.3\n",
      "requests            2.31.0\n",
      "scipy               1.13.0\n",
      "seaborn             0.13.2\n",
      "setuptools          69.5.1\n",
      "six                 1.16.0\n",
      "smmap               5.0.1\n",
      "stack-data          0.6.3\n",
      "sympy               1.12\n",
      "tbb                 2021.12.0\n",
      "thop                0.1.1.post2209072238\n",
      "torch               2.3.0\n",
      "torchvision         0.18.0\n",
      "tornado             6.4\n",
      "tqdm                4.66.4\n",
      "traitlets           5.14.3\n",
      "typing-extensions   4.11.0\n",
      "tzdata              2024.1\n",
      "ultralytics         8.2.12\n",
      "urllib3             2.2.1\n",
      "uuid                1.30\n",
      "wcwidth             0.2.13\n",
      "wheel               0.43.0\n",
      "zipp                3.18.2\n"
     ]
    },
    {
     "name": "stderr",
     "output_type": "stream",
     "text": [
      "WARNING: You are using pip version 20.2.3; however, version 24.1.1 is available.\n",
      "You should consider upgrading via the 'e:\\fyp-yolo\\myenv\\scripts\\python.exe -m pip install --upgrade pip' command.\n"
     ]
    }
   ],
   "source": [
    "!pip list"
   ]
  },
  {
   "cell_type": "code",
   "execution_count": 2,
   "id": "d416faee-9489-486c-af61-88606c019b91",
   "metadata": {},
   "outputs": [
    {
     "name": "stderr",
     "output_type": "stream",
     "text": [
      "fatal: destination path 'yolov5' already exists and is not an empty directory.\n"
     ]
    }
   ],
   "source": [
    "!git clone https://github.com/ultralytics/yolov5"
   ]
  },
  {
   "cell_type": "code",
   "execution_count": 2,
   "id": "90e67e80-20ad-4559-9f1d-da4524d79701",
   "metadata": {},
   "outputs": [],
   "source": [
    "import torch\n",
    "from matplotlib import pyplot as plt\n",
    "import numpy as np\n",
    "import cv2"
   ]
  },
  {
   "cell_type": "code",
   "execution_count": 3,
   "id": "e86de149-e508-4da9-9d88-9abaebc7fffd",
   "metadata": {},
   "outputs": [],
   "source": [
    "import uuid   # Unique identifier\n",
    "import os\n",
    "import time"
   ]
  },
  {
   "cell_type": "code",
   "execution_count": 5,
   "id": "efb9445f-312e-41c9-8a07-9e5bbb09fada",
   "metadata": {},
   "outputs": [],
   "source": [
    "!cd labelImg && pyrcc5 -o libs/resources.py resources.qrc"
   ]
  },
  {
   "cell_type": "code",
   "execution_count": null,
   "id": "b4b6566b-a468-486b-b2b7-7753823cef81",
   "metadata": {},
   "outputs": [],
   "source": [
    " #!cd yolov5 && python train.py --img 320 --batch 16 --epochs 50 --data dataset.yaml --weights yolov5s.pt --workers 2"
   ]
  },
  {
   "cell_type": "code",
   "execution_count": 17,
   "id": "972b5797-7c61-46b0-87cb-c7993954afa3",
   "metadata": {},
   "outputs": [
    {
     "name": "stderr",
     "output_type": "stream",
     "text": [
      "Downloading: \"https://github.com/ultralytics/yolov5/zipball/master\" to C:\\Users\\kkt/.cache\\torch\\hub\\master.zip\n",
      "YOLOv5  2024-6-30 Python-3.9.1 torch-2.3.0+cpu CPU\n",
      "\n",
      "Fusing layers... \n",
      "Model summary: 157 layers, 7053277 parameters, 0 gradients, 15.9 GFLOPs\n",
      "Adding AutoShape... \n"
     ]
    }
   ],
   "source": [
    "model = torch.hub.load('ultralytics/yolov5', 'custom', path='yolov5/runs/train/exp5/weights/best.pt', force_reload=True)"
   ]
  },
  {
   "cell_type": "code",
   "execution_count": 18,
   "id": "75ec7b1c-c423-4d7c-ae12-14b424bcb05d",
   "metadata": {},
   "outputs": [],
   "source": [
    "img = os.path.join('data', 'images', 'spot.2.jpg')"
   ]
  },
  {
   "cell_type": "code",
   "execution_count": 19,
   "id": "0b6ea380-7f05-4710-bb74-4bd5b20949c5",
   "metadata": {},
   "outputs": [],
   "source": [
    "img_path = r'E:\\FYP-YOLO\\data\\images\\crack.54.jpg'"
   ]
  },
  {
   "cell_type": "code",
   "execution_count": 20,
   "id": "dd483236-5942-4df5-bc45-d5d06a20b3dd",
   "metadata": {},
   "outputs": [],
   "source": [
    "img_path = r'E:\\FYP-YOLO\\data\\tiles_images\\images\\captured_image_1716755731.6577668.png'\n",
    "\n",
    "# Load the image\n",
    "img = cv2.imread(img_path)\n",
    "\n",
    "# Grayscale\n",
    "gray_frame = cv2.cvtColor(img, cv2.COLOR_BGR2GRAY)\n",
    "\n",
    "# Thresholding\n",
    "_, threshold = cv2.threshold(gray_frame, 90, 255, cv2.THRESH_BINARY)\n",
    "\n",
    "# Invert Image\n",
    "invert1 = cv2.bitwise_not(threshold)\n",
    "\n",
    "results = model(invert1)"
   ]
  },
  {
   "cell_type": "code",
   "execution_count": 21,
   "id": "7133983f-3889-4f13-a478-8e3ac5ffbfb4",
   "metadata": {},
   "outputs": [
    {
     "name": "stderr",
     "output_type": "stream",
     "text": [
      "image 1/1: 480x640 3 crackss\n",
      "Speed: 22.0ms pre-process, 371.9ms inference, 484.6ms NMS per image at shape (1, 3, 480, 640)\n"
     ]
    }
   ],
   "source": [
    "results.print()"
   ]
  },
  {
   "cell_type": "code",
   "execution_count": 22,
   "id": "45691b7e-55fe-4911-9f9b-24f7481a4dc9",
   "metadata": {},
   "outputs": [],
   "source": [
    "image_array = np.squeeze(results.render())"
   ]
  },
  {
   "cell_type": "code",
   "execution_count": 23,
   "id": "5f334253-abdd-42fc-8f46-09e210af4a61",
   "metadata": {},
   "outputs": [
    {
     "data": {
      "image/png": "[encoded data removed]",
      "text/plain": [
       "<Figure size 1000x1000 with 1 Axes>"
      ]
     },
     "metadata": {},
     "output_type": "display_data"
    }
   ],
   "source": [
    "%matplotlib inline \n",
    "plt.imshow(image_array)\n",
    "plt.gcf().set_size_inches(10, 10)\n",
    "plt.imshow(np.squeeze(results.render()))\n",
    "plt.show()"
   ]
  },
  {
   "cell_type": "code",
   "execution_count": 24,
   "id": "f5311fd4-5f8f-4058-b283-50f07b075567",
   "metadata": {},
   "outputs": [],
   "source": [
    "cap = cv2.VideoCapture(0)\n",
    "while cap.isOpened():\n",
    "    ret, frame = cap.read()\n",
    "\n",
    "    # Grayscale\n",
    "    gray_frame = cv2.cvtColor(frame, cv2.COLOR_BGR2GRAY)\n",
    "\n",
    "    # Thresholding\n",
    "    _, threshold = cv2.threshold(gray_frame, 90, 255, cv2.THRESH_BINARY)\n",
    "\n",
    "    # Invert Image\n",
    "    invert1 = cv2.bitwise_not(threshold)\n",
    "\n",
    "    # Make detections \n",
    "    results = model(invert1)\n",
    "    \n",
    "    cv2.imshow('YOLO', np.squeeze(results.render()))\n",
    "    \n",
    "    if cv2.waitKey(10) & 0xFF == ord('q'):\n",
    "        break\n",
    "cap.release()\n",
    "cv2.destroyAllWindows()"
   ]
  },
  {
   "cell_type": "markdown",
   "id": "739ca2f7-5334-4ab4-b6ec-932476de221e",
   "metadata": {},
   "source": []
  }
 ],
 "metadata": {
  "kernelspec": {
   "display_name": "myenv",
   "language": "python",
   "name": "python3"
  },
  "language_info": {
   "codemirror_mode": {
    "name": "ipython",
    "version": 3
   },
   "file_extension": ".py",
   "mimetype": "text/x-python",
   "name": "python",
   "nbconvert_exporter": "python",
   "pygments_lexer": "ipython3",
   "version": "3.9.1"
  }
 },
 "nbformat": 4,
 "nbformat_minor": 5
}
